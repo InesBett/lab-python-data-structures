{
 "cells": [
  {
   "cell_type": "raw",
   "id": "7f221c3a-cf1d-4e62-8bd4-07d6a003b081",
   "metadata": {},
   "source": [
    "Exercise: Managing Customer Orders\n",
    "As part of a business venture, you are starting an online store that sells various products. To ensure smooth operations, you need to develop a program that manages customer orders and inventory.\n",
    "\n",
    "Follow the steps below to complete the exercise:\n",
    "\n",
    "Define a list called products that contains the following items: \"t-shirt\", \"mug\", \"hat\", \"book\", \"keychain\".\n",
    "\n",
    "Create an empty dictionary called inventory.\n",
    "\n",
    "Ask the user to input the quantity of each product available in the inventory. Use the product names from the products list as keys in the inventory dictionary and assign the respective quantities as values.\n",
    "\n",
    "Create an empty set called customer_orders.\n",
    "\n",
    "Ask the user to input the name of three products that a customer wants to order (from those in the products list, meaning three products out of \"t-shirt\", \"mug\", \"hat\", \"book\" or \"keychain\". Add each product name to the customer_orders set.\n",
    "\n",
    "Print the products in the customer_orders set.                        \n",
    "\n",
    "Calculate the following order statistics:\n",
    "\n",
    "Total Products Ordered: The total number of products in the customer_orders set.\n",
    "Percentage of Products Ordered: The percentage of products ordered compared to the total available products.\n",
    "Store these statistics in a tuple called order_status.   \n",
    "\n",
    "Print the order statistics using the following format:\n",
    "\n",
    "Order Statistics:\n",
    "Total Products Ordered: <total_products_ordered>\n",
    "Percentage of Products Ordered: <percentage_ordered>% \n",
    "Update the inventory by subtracting 1 from the quantity of each product. Modify the inventory dictionary accordingly.\n",
    "\n",
    "Print the updated inventory, displaying the quantity of each product on separate lines.\n",
    "\n",
    "Solve the exercise by implementing the steps using the Python concepts of lists, dictionaries, sets, and basic input/output operations."
   ]
  },
  {
   "cell_type": "code",
   "execution_count": 150,
   "id": "f2e391a8-1e2c-47ba-b440-2e5e37df3d9c",
   "metadata": {},
   "outputs": [],
   "source": [
    "products=[\"t-shirt\", \"mug\", \"hat\", \"book\", \"keychain\"]"
   ]
  },
  {
   "cell_type": "code",
   "execution_count": 187,
   "id": "18f0972d-a3dd-4416-bc6d-e50e137f7786",
   "metadata": {},
   "outputs": [],
   "source": [
    "inventory={}"
   ]
  },
  {
   "cell_type": "code",
   "execution_count": 138,
   "id": "05a2193f-9f2b-47fd-9b28-bb55a8ba47d6",
   "metadata": {},
   "outputs": [
    {
     "name": "stdin",
     "output_type": "stream",
     "text": [
      "Please enter the quantity of t-shirts 12\n",
      "Please enter the quantity of mugs 10\n",
      "Please enter the quantity of hats 13\n",
      "Please enter the quantity of book 14\n",
      "Please enter the quantity of keychain 15\n"
     ]
    }
   ],
   "source": [
    "quantity_tshirt= input(\"Please enter the quantity of t-shirts\")\n",
    "quantity_mug= input(\"Please enter the quantity of mugs\")\n",
    "quantity_hat= input(\"Please enter the quantity of hats\")\n",
    "quantity_book= input(\"Please enter the quantity of book\")\n",
    "quantity_keychain= input(\"Please enter the quantity of keychain\")"
   ]
  },
  {
   "cell_type": "code",
   "execution_count": 210,
   "id": "b384ebde-d6d8-476e-aaf5-ec8c78cfc984",
   "metadata": {},
   "outputs": [
    {
     "data": {
      "text/plain": [
       "{'t-shirt': '12', 'mug': '10', 'hat': '13', 'book': '14', 'keychain': '15'}"
      ]
     },
     "execution_count": 210,
     "metadata": {},
     "output_type": "execute_result"
    }
   ],
   "source": [
    "inventory[\"t-shirt\"]= quantity_tshirt\n",
    "inventory[\"mug\"]= quantity_mug\n",
    "inventory[\"hat\"]= quantity_hat\n",
    "inventory[\"book\"]= quantity_book\n",
    "inventory[\"keychain\"]= quantity_keychain\n",
    "inventory"
   ]
  },
  {
   "cell_type": "code",
   "execution_count": 63,
   "id": "c32e72a4-f5bf-401a-9c4c-a56034851295",
   "metadata": {},
   "outputs": [],
   "source": [
    "customer_orders= set()"
   ]
  },
  {
   "cell_type": "code",
   "execution_count": 56,
   "id": "8c78c2ca-97f9-4802-9d27-ab9255b84a04",
   "metadata": {},
   "outputs": [
    {
     "name": "stdin",
     "output_type": "stream",
     "text": [
      "Please input your product mug\n"
     ]
    }
   ],
   "source": [
    "product_1=input(\"Please input your product\")"
   ]
  },
  {
   "cell_type": "code",
   "execution_count": 57,
   "id": "553cd920-7276-4685-a41a-dc9a57faf624",
   "metadata": {},
   "outputs": [
    {
     "name": "stdin",
     "output_type": "stream",
     "text": [
      "Please input your product hat\n"
     ]
    }
   ],
   "source": [
    "product_2=input(\"Please input your product\")"
   ]
  },
  {
   "cell_type": "code",
   "execution_count": 58,
   "id": "364e0218-c28c-41e0-8119-2b1250d85741",
   "metadata": {},
   "outputs": [
    {
     "name": "stdin",
     "output_type": "stream",
     "text": [
      "Please input your product book\n"
     ]
    }
   ],
   "source": [
    "product_3=input(\"Please input your product\")"
   ]
  },
  {
   "cell_type": "code",
   "execution_count": 64,
   "id": "b8eebc63-d2c0-4bbe-8d4f-0beff141cd68",
   "metadata": {},
   "outputs": [],
   "source": [
    "while len(customer_orders) < 3: #para o cliente me dar 3 produtos\n",
    "    if product_1 in products:\n",
    "        customer_orders.add(product_1)\n",
    "    if product_2 in products:\n",
    "        customer_orders.add(product_2)\n",
    "    if product_3 in products:\n",
    "        customer_orders.add(product_3)"
   ]
  },
  {
   "cell_type": "code",
   "execution_count": 65,
   "id": "8f6d9bf7-d763-46db-9982-63c0fbf88fda",
   "metadata": {},
   "outputs": [
    {
     "data": {
      "text/plain": [
       "{'book', 'hat', 'mug'}"
      ]
     },
     "execution_count": 65,
     "metadata": {},
     "output_type": "execute_result"
    }
   ],
   "source": [
    "set(customer_orders)"
   ]
  },
  {
   "cell_type": "code",
   "execution_count": 66,
   "id": "a64a7010-2a68-46ab-a709-f203cec332b0",
   "metadata": {},
   "outputs": [
    {
     "data": {
      "text/plain": [
       "3"
      ]
     },
     "execution_count": 66,
     "metadata": {},
     "output_type": "execute_result"
    }
   ],
   "source": [
    "total_products_ordered= len(customer_orders)\n",
    "total_products_ordered"
   ]
  },
  {
   "cell_type": "code",
   "execution_count": 67,
   "id": "e7e8e768-fe4b-475f-ad82-8a325f63c282",
   "metadata": {},
   "outputs": [
    {
     "data": {
      "text/plain": [
       "5"
      ]
     },
     "execution_count": 67,
     "metadata": {},
     "output_type": "execute_result"
    }
   ],
   "source": [
    "len(products)"
   ]
  },
  {
   "cell_type": "code",
   "execution_count": 88,
   "id": "497ca167-c5c0-4903-b50c-599cfab10cdd",
   "metadata": {},
   "outputs": [
    {
     "name": "stdout",
     "output_type": "stream",
     "text": [
      "166.66666666666669\n"
     ]
    }
   ],
   "source": [
    "Percentage_of_products_ordered= (len(products)/total_products_ordered)*100\n",
    "print(Percentage_of_products_ordered)"
   ]
  },
  {
   "cell_type": "code",
   "execution_count": 92,
   "id": "898080ca-a4df-4450-ba85-e43a4ff9b540",
   "metadata": {},
   "outputs": [
    {
     "data": {
      "text/plain": [
       "'166.66666666666669%%'"
      ]
     },
     "execution_count": 92,
     "metadata": {},
     "output_type": "execute_result"
    }
   ],
   "source": [
    "Percentage_of_products_ordered= str(Percentage_of_products_ordered) + \"%\"\n",
    "Percentage_of_products_ordered"
   ]
  },
  {
   "cell_type": "code",
   "execution_count": 99,
   "id": "aa58879f-a026-459a-aee9-22be4d215743",
   "metadata": {},
   "outputs": [
    {
     "data": {
      "text/plain": [
       "'3 and 166.66666666666669%%'"
      ]
     },
     "execution_count": 99,
     "metadata": {},
     "output_type": "execute_result"
    }
   ],
   "source": [
    "order_status= str(total_products_ordered) + \" \"+ \"and\" +  \" \" + Percentage_of_products_ordered\n",
    "order_status"
   ]
  },
  {
   "cell_type": "code",
   "execution_count": 101,
   "id": "6695d09b-3bf8-4799-9a6d-2b7849013fc5",
   "metadata": {},
   "outputs": [
    {
     "name": "stdout",
     "output_type": "stream",
     "text": [
      " In order status there is total products ordered which is 3 and the percentage of products ordered which is 166.66666666666669%%\n"
     ]
    }
   ],
   "source": [
    "print(f\" In order status there is total products ordered which is {total_products_ordered} and the percentage of products ordered which is {Percentage_of_products_ordered}\")"
   ]
  },
  {
   "cell_type": "code",
   "execution_count": 152,
   "id": "92bef6d1-de1b-4625-9333-8aed7b2c93d8",
   "metadata": {},
   "outputs": [],
   "source": [
    "new_tshirt =int(quantity_tshirt) -1\n",
    "new_mug=int(quantity_mug)-1\n",
    "new_hat=int(quantity_hat)-1\n",
    "new_book=int(quantity_book)-1\n",
    "new_keychain=int(quantity_keychain)-1"
   ]
  },
  {
   "cell_type": "code",
   "execution_count": 153,
   "id": "250b13fe-5bd8-4f26-8b68-850fe53d50c8",
   "metadata": {},
   "outputs": [
    {
     "name": "stdout",
     "output_type": "stream",
     "text": [
      "11\n"
     ]
    }
   ],
   "source": [
    "print(new_tshirt)"
   ]
  },
  {
   "cell_type": "code",
   "execution_count": 142,
   "id": "0e63a950-6b06-45bd-a3d3-02ef4fa6eebd",
   "metadata": {},
   "outputs": [
    {
     "name": "stdout",
     "output_type": "stream",
     "text": [
      "9\n"
     ]
    }
   ],
   "source": [
    "print(new_mug)"
   ]
  },
  {
   "cell_type": "code",
   "execution_count": 195,
   "id": "2655eeb5-c541-4368-9528-c2a6768d2a12",
   "metadata": {},
   "outputs": [
    {
     "data": {
      "text/plain": [
       "{'t-shirt': 11, 'mug': 9, 'hat': 12, 'book': 13, 'keychain': 14}"
      ]
     },
     "execution_count": 195,
     "metadata": {},
     "output_type": "execute_result"
    }
   ],
   "source": [
    "inventory[\"t-shirt\"]= new_tshirt\n",
    "inventory[\"mug\"]= new_mug\n",
    "inventory[\"hat\"]= new_hat\n",
    "inventory[\"book\"]= new_book\n",
    "inventory[\"keychain\"]= new_keychain\n",
    "inventory"
   ]
  },
  {
   "cell_type": "code",
   "execution_count": 232,
   "id": "5af5a13a-c9e9-4f8b-bd06-6c8ed7b60ed0",
   "metadata": {},
   "outputs": [],
   "source": [
    "inventory.items()\n",
    "keys= inventory.keys()"
   ]
  },
  {
   "cell_type": "code",
   "execution_count": 231,
   "id": "3ae7bc30-aebf-47db-82aa-1695f9a8fd0a",
   "metadata": {},
   "outputs": [],
   "source": [
    "values=inventory.values()"
   ]
  },
  {
   "cell_type": "code",
   "execution_count": 235,
   "id": "15b82aa5-a112-44cd-b7b7-f7a155331bd3",
   "metadata": {},
   "outputs": [
    {
     "name": "stdout",
     "output_type": "stream",
     "text": [
      " 't-shirt': '12'\n",
      " 'mug': '10'\n",
      " 'hat': '13'\n",
      " 'book': '14'\n",
      " 'keychain': '15'\n"
     ]
    }
   ],
   "source": [
    "for key, value in inventory.items():\n",
    "    print(f\" '{key}': '{value}'\")"
   ]
  }
 ],
 "metadata": {
  "kernelspec": {
   "display_name": "Python 3 (ipykernel)",
   "language": "python",
   "name": "python3"
  },
  "language_info": {
   "codemirror_mode": {
    "name": "ipython",
    "version": 3
   },
   "file_extension": ".py",
   "mimetype": "text/x-python",
   "name": "python",
   "nbconvert_exporter": "python",
   "pygments_lexer": "ipython3",
   "version": "3.11.7"
  }
 },
 "nbformat": 4,
 "nbformat_minor": 5
}
